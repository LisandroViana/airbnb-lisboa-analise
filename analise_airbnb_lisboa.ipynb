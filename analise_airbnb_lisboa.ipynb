{
 "cells": [
  {
   "cell_type": "markdown",
   "id": "875b346a",
   "metadata": {},
   "source": [
    "# Projeto: Análise do Mercado Imobiliário em Lisboa com Dados do Airbnb\n",
    "\n",
    "Este projeto tem como objetivo explorar e analisar dados públicos de imóveis disponíveis no Airbnb na cidade de Lisboa. Por meio de técnicas de análise exploratória de dados (EDA) e visualizações, buscamos identificar padrões de preços, tipos de acomodações, regiões com maior disponibilidade e insights que ajudem a entender melhor o mercado de aluguel de curto prazo na cidade.\n",
    "\n",
    "**Autor:** Lisandro Almeida Viana\n",
    "\n",
    "🔍 **Problemas que este projeto ajuda a responder:**\n",
    "- Qual o preço médio dos imóveis por tipo de acomodação?\n",
    "- Quais são os bairros com maior oferta de imóveis e disponibilidade?\n",
    "- Quais fatores influenciam mais no preço de um imóvel no Airbnb?\n",
    "- Como um novo anunciante pode se posicionar melhor no mercado?\n",
    "- É possível prever o preço de um imóvel com base em suas características?"
   ]
  },
  {
   "cell_type": "code",
   "execution_count": null,
   "id": "7869390d",
   "metadata": {},
   "outputs": [],
   "source": [
    "import pandas as pd\n",
    "import matplotlib.pyplot as plt\n",
    "import seaborn as sns\n",
    "import seaborn.objects as so\n",
    "from sklearn.linear_model import LinearRegression\n",
    "from sklearn.model_selection import train_test_split\n",
    "from sklearn.metrics import mean_squared_error, r2_score"
   ]
  },
  {
   "cell_type": "markdown",
   "id": "6bc96155",
   "metadata": {},
   "source": [
    "## 🎯 Objetivo da Análise\n",
    "- Entender a distribuição de preços dos imóveis\n",
    "- Comparar valores por tipo de acomodação\n",
    "- Avaliar a disponibilidade por região\n",
    "- Identificar bairros com maior oferta"
   ]
  },
  {
   "cell_type": "code",
   "execution_count": null,
   "id": "9810207f",
   "metadata": {},
   "outputs": [],
   "source": [
    "df = pd.read_csv('/mnt/data/listings_amostra.csv')"
   ]
  },
  {
   "cell_type": "code",
   "execution_count": null,
   "id": "879a904f",
   "metadata": {},
   "outputs": [],
   "source": [
    "colunas = [\n",
    "    'name', 'neighbourhood_cleansed', 'latitude', 'longitude',\n",
    "    'room_type', 'price', 'minimum_nights', 'availability_365',\n",
    "    'number_of_reviews', 'review_scores_rating']\n",
    "df = df[colunas]"
   ]
  },
  {
   "cell_type": "code",
   "execution_count": null,
   "id": "ffbb2cee",
   "metadata": {},
   "outputs": [],
   "source": [
    "df['price'] = df['price'].replace('[\\$,]', '', regex=True).astype(float)\n",
    "df.dropna(inplace=True)\n",
    "df = df[(df['price'] > 0) & (df['minimum_nights'] < 365)]"
   ]
  },
  {
   "cell_type": "code",
   "execution_count": null,
   "id": "abfda9ff",
   "metadata": {},
   "outputs": [],
   "source": [
    "plt.figure(figsize=(10, 6))\n",
    "sns.histplot(df['price'], bins=50, kde=True)\n",
    "plt.title('Distribuição de Preços dos Imóveis no Airbnb (Lisboa)')\n",
    "plt.xlabel('Preço (€)')\n",
    "plt.ylabel('Quantidade de imóveis')\n",
    "plt.xlim(0, 1500)\n",
    "plt.grid(True)\n",
    "plt.show()"
   ]
  },
  {
   "cell_type": "code",
   "execution_count": null,
   "id": "a1fcdb4a",
   "metadata": {},
   "outputs": [],
   "source": [
    "plt.figure(figsize=(12, 6))\n",
    "sns.boxplot(x='room_type', y='price', data=df)\n",
    "plt.title('Preço por Tipo de Acomodação')\n",
    "plt.xticks(rotation=45)\n",
    "plt.ylim(0, 1500)\n",
    "plt.grid(True)\n",
    "plt.show()"
   ]
  },
  {
   "cell_type": "code",
   "execution_count": null,
   "id": "beda02df",
   "metadata": {},
   "outputs": [],
   "source": [
    "plt.figure(figsize=(12, 6))\n",
    "df_grouped = df.groupby('neighbourhood_cleansed')['availability_365']\n",
    ".mean().sort_values(ascending=False).head(10)\n",
    "sns.barplot(x=df_grouped.values, y=df_grouped.index)\n",
    "plt.title('Top 10 bairros com maior disponibilidade média anual')\n",
    "plt.xlabel('Dias disponíveis por ano')\n",
    "plt.ylabel('Bairro')\n",
    "plt.grid(True)\n",
    "plt.show()"
   ]
  },
  {
   "cell_type": "code",
   "execution_count": null,
   "id": "8810b544",
   "metadata": {},
   "outputs": [],
   "source": [
    "plt.figure(figsize=(10, 6))\n",
    "sns.heatmap(df.corr(numeric_only=True), annot=True, cmap='coolwarm', fmt=\".2f\")\n",
    "plt.title('Mapa de Correlação entre Variáveis')\n",
    "plt.show()"
   ]
  },
  {
   "cell_type": "code",
   "execution_count": null,
   "id": "8f3c6193",
   "metadata": {},
   "outputs": [],
   "source": [
    "print(\"\\n🔍 Principais insights:\")\n",
    "print(\"- Correlação moderada entre review_scores_rating e preço\")\n",
    "print(\"- Número de noites mínimas não influencia muito o preço\")\n",
    "print(\"- Número de avaliações pode ter relação com disponibilidade e localização\")"
   ]
  },
  {
   "cell_type": "code",
   "execution_count": null,
   "id": "dcb678e2",
   "metadata": {},
   "outputs": [],
   "source": [
    "df_model = df[['price', 'minimum_nights', 'availability_365', 'number_of_reviews', 'review_scores_rating']]\n",
    "X = df_model.drop('price', axis=1)\n",
    "y = df_model['price']\n",
    "\n",
    "X_train, X_test, y_train, y_test = train_test_split(X, y, test_size=0.2, random_state=42)\n",
    "model = LinearRegression()\n",
    "model.fit(X_train, y_train)\n",
    "y_pred = model.predict(X_test)\n",
    "\n",
    "print(\"\\n📊 Resultados da Regressão Linear:\")\n",
    "print(\"R² Score:\", r2_score(y_test, y_pred))\n",
    "print(\"Erro Quadrático Médio (RMSE):\", mean_squared_error(y_test, y_pred, squared=False))"
   ]
  }
 ],
 "metadata": {},
 "nbformat": 4,
 "nbformat_minor": 5
}
